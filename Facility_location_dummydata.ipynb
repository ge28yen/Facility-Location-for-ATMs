{
 "cells": [
  {
   "cell_type": "code",
   "execution_count": 71,
   "id": "d19e6f0b",
   "metadata": {},
   "outputs": [],
   "source": [
    "import numpy as np\n",
    "import matplotlib.pyplot as plt\n"
   ]
  },
  {
   "cell_type": "markdown",
   "id": "7f52a2e0",
   "metadata": {},
   "source": [
    "Nuremberg app. dimensions: 20km (vertical) x 15km (horizontal) "
   ]
  },
  {
   "cell_type": "code",
   "execution_count": 72,
   "id": "e9f6e167",
   "metadata": {
    "scrolled": true
   },
   "outputs": [],
   "source": [
    "n_x  = 15*5  #number of vertical lines in [0, 0.75] interval\n",
    "n_y = 20*5 #number of horizontal lines in [0,1] interval\n",
    "            #  this gives 200m distance between points"
   ]
  },
  {
   "cell_type": "markdown",
   "id": "b882d082",
   "metadata": {},
   "source": [
    "Generate customers randomly, with a normal-distributed profit per customer"
   ]
  },
  {
   "cell_type": "code",
   "execution_count": 73,
   "id": "c9427af6",
   "metadata": {},
   "outputs": [],
   "source": [
    "n_customers = 40\n",
    "\n",
    "import random\n",
    "random.seed(3002) ## **Pablo** Set the seed to generate the same random customers on each run. \n",
    "\n",
    "def samplegrid(w, h, n):\n",
    "    a = [divmod(i, (h-1)) for i in random.sample(range((w-1) * (h-1)), n)]\n",
    "    anewtuple = []\n",
    "    for atuple in a:\n",
    "        anewtuple.append([atuple[0]/(w-1)*0.75, atuple[1]/(h-1)])\n",
    "        \n",
    "    anewtuple = np.array(anewtuple)\n",
    "    return anewtuple.T[0], anewtuple.T[1]"
   ]
  },
  {
   "cell_type": "code",
   "execution_count": 74,
   "id": "98c5afda",
   "metadata": {},
   "outputs": [
    {
     "data": {
      "text/plain": [
       "[<matplotlib.lines.Line2D at 0x28599968610>]"
      ]
     },
     "execution_count": 74,
     "metadata": {},
     "output_type": "execute_result"
    },
    {
     "data": {
      "image/png": "[encoded data removed]",
      "text/plain": [
       "<Figure size 432x288 with 1 Axes>"
      ]
     },
     "metadata": {
      "needs_background": "light"
     },
     "output_type": "display_data"
    }
   ],
   "source": [
    "x_customers, y_customers = samplegrid(n_x, n_y, n_customers)\n",
    "fig = plt.axes()\n",
    "#longitudes = coordinates.T[0]\n",
    "#latitudes = coordinates.T[1]\n",
    "#latitudes = (latitudes-np.min(latitudes))/(np.max(latitudes)-np.min(latitudes))\n",
    "#longitudes = (longitudes-np.min(longitudes))/(np.max(latitudes)-np.min(latitudes))\n",
    "major_ticks_top=np.linspace(0,0.75,n_x)\n",
    "fig.set_xticks (major_ticks_top, minor = True)\n",
    "major_ticks_top=np.linspace(0, 1, n_y)\n",
    "fig.set_yticks(major_ticks_top, minor = True)\n",
    "fig.grid(which = 'minor')\n",
    "fig.plot(x_customers, y_customers, 'bo')"
   ]
  },
  {
   "cell_type": "markdown",
   "id": "ccd38288",
   "metadata": {},
   "source": [
    "(almost) normally generated profits per customer - mean 10 000, std 5000:"
   ]
  },
  {
   "cell_type": "code",
   "execution_count": 75,
   "id": "999c75cc",
   "metadata": {},
   "outputs": [
    {
     "data": {
      "text/plain": [
       "array([13392.5633213 , 14600.44364233, 10619.86982244,  4458.80470405,\n",
       "       15936.70184587, 10510.34340925,  7315.69930572,  8733.91806805,\n",
       "        9657.47591826,  5073.84094931,  5898.3046571 ,  9832.58886091,\n",
       "       10507.86548385,  7596.01576468,  6842.94487949, 12405.0361247 ,\n",
       "        8944.63468529, 10954.11156936, 15794.1006029 ,  9990.44763199,\n",
       "        6156.44650371,  5997.08387302,  8382.94541743,  5900.16523769,\n",
       "       15696.18211915,  5459.97824735,  6380.73306639, 13556.2396464 ,\n",
       "        7270.6620943 ,  1247.26084904,  3979.78352641, 15412.45354788,\n",
       "        7619.0530831 , 13974.9183905 ,  2123.10645127, 13619.2565441 ,\n",
       "        7100.41799636,  9123.59228169, 12425.44293335, 12030.88729338])"
      ]
     },
     "execution_count": 75,
     "metadata": {},
     "output_type": "execute_result"
    }
   ],
   "source": [
    "profits = np.random.normal(10000, 5000, n_customers)\n",
    "profits = np.abs(profits)\n",
    "profits"
   ]
  },
  {
   "cell_type": "code",
   "execution_count": 76,
   "id": "622976cb",
   "metadata": {},
   "outputs": [
    {
     "data": {
      "text/plain": [
       "array([10, 11, 12, 13, 14, 15, 16, 17, 18, 19, 20, 21, 22, 23, 24, 25, 26,\n",
       "       27, 28, 29, 30])"
      ]
     },
     "execution_count": 76,
     "metadata": {},
     "output_type": "execute_result"
    }
   ],
   "source": [
    "number_ATMs = np.arange(start = 5, stop = 21)\n",
    "number_ATMs"
   ]
  },
  {
   "cell_type": "markdown",
   "id": "de4edf62",
   "metadata": {},
   "source": [
    "# your solution"
   ]
  },
  {
   "cell_type": "code",
   "execution_count": null,
   "id": "f8e2448b",
   "metadata": {},
   "outputs": [],
   "source": []
  },
  {
   "cell_type": "code",
   "execution_count": null,
   "id": "e1bc2516",
   "metadata": {},
   "outputs": [],
   "source": []
  },
  {
   "cell_type": "code",
   "execution_count": null,
   "id": "a8b47314",
   "metadata": {},
   "outputs": [],
   "source": []
  },
  {
   "cell_type": "code",
   "execution_count": 32,
   "id": "ec23ec8e",
   "metadata": {},
   "outputs": [],
   "source": [
    "longitudes = [[]] # our results for different ATM numbers, x-variables normalized [0~0.75]\n",
    "latitudes = [[]] # -||- ,  y-variables normalized [0~1]"
   ]
  },
  {
   "cell_type": "markdown",
   "id": "2c220000",
   "metadata": {},
   "source": [
    "# create network and calculate metric\n",
    "first show the network and metric for one given atm number = 20"
   ]
  },
  {
   "cell_type": "code",
   "execution_count": 33,
   "id": "50421a32",
   "metadata": {},
   "outputs": [],
   "source": [
    "def EuclideanDistance(x,y): \n",
    "    \n",
    "    return np.sqrt((x[0]-y[0])**2+(x[1]-y[1])**2)\n",
    "\n",
    "def assign_nearest(x_customer, y_customer, x_atm, y_atm):\n",
    "    data_customer = []\n",
    "    data_atm = []\n",
    "    for i in range(len(x_customer)):\n",
    "        data_customer.append([x_customer[i],y_customer[i]])\n",
    "    for i in range(len(x_atm)):\n",
    "        data_atm.append([x_atm[i],y_atm[i]])\n",
    "    \n",
    "    network = []\n",
    "    length = []\n",
    "    for customer in data_customer:\n",
    "        allatms = []\n",
    "        for atm in data_atm:\n",
    "            allatms.append(EuclideanDistance((customer[0], customer[1]), (atm[0], atm[1])))\n",
    "        nearest = np.argmin(allatms)\n",
    "        length.append(np.min(allatms))\n",
    "        network.append(nearest)\n",
    "    return network, np.sum(length), length"
   ]
  },
  {
   "cell_type": "code",
   "execution_count": 66,
   "id": "ec75e5dd",
   "metadata": {},
   "outputs": [
    {
     "ename": "ValueError",
     "evalue": "attempt to get argmin of an empty sequence",
     "output_type": "error",
     "traceback": [
      "\u001b[1;31m---------------------------------------------------------------------------\u001b[0m",
      "\u001b[1;31mValueError\u001b[0m                                Traceback (most recent call last)",
      "\u001b[1;32m<ipython-input-66-d2c012d5ac23>\u001b[0m in \u001b[0;36m<module>\u001b[1;34m\u001b[0m\n\u001b[1;32m----> 1\u001b[1;33m \u001b[0mnetwork\u001b[0m\u001b[1;33m,\u001b[0m \u001b[0mlengths\u001b[0m \u001b[1;33m=\u001b[0m \u001b[0massign_nearest\u001b[0m\u001b[1;33m(\u001b[0m\u001b[0mx_customers\u001b[0m\u001b[1;33m,\u001b[0m \u001b[0my_customers\u001b[0m\u001b[1;33m,\u001b[0m \u001b[0mlongitudes\u001b[0m\u001b[1;33m,\u001b[0m \u001b[0mlatitudes\u001b[0m\u001b[1;33m)\u001b[0m\u001b[1;33m\u001b[0m\u001b[1;33m\u001b[0m\u001b[0m\n\u001b[0m",
      "\u001b[1;32m<ipython-input-33-4e5cde7f251e>\u001b[0m in \u001b[0;36massign_nearest\u001b[1;34m(x_customer, y_customer, x_atm, y_atm)\u001b[0m\n\u001b[0;32m     18\u001b[0m         \u001b[1;32mfor\u001b[0m \u001b[0matm\u001b[0m \u001b[1;32min\u001b[0m \u001b[0mdata_atm\u001b[0m\u001b[1;33m:\u001b[0m\u001b[1;33m\u001b[0m\u001b[1;33m\u001b[0m\u001b[0m\n\u001b[0;32m     19\u001b[0m             \u001b[0mallatms\u001b[0m\u001b[1;33m.\u001b[0m\u001b[0mappend\u001b[0m\u001b[1;33m(\u001b[0m\u001b[0mEuclideanDistance\u001b[0m\u001b[1;33m(\u001b[0m\u001b[1;33m(\u001b[0m\u001b[0mcustomer\u001b[0m\u001b[1;33m[\u001b[0m\u001b[1;36m0\u001b[0m\u001b[1;33m]\u001b[0m\u001b[1;33m,\u001b[0m \u001b[0mcustomer\u001b[0m\u001b[1;33m[\u001b[0m\u001b[1;36m1\u001b[0m\u001b[1;33m]\u001b[0m\u001b[1;33m)\u001b[0m\u001b[1;33m,\u001b[0m \u001b[1;33m(\u001b[0m\u001b[0matm\u001b[0m\u001b[1;33m[\u001b[0m\u001b[1;36m0\u001b[0m\u001b[1;33m]\u001b[0m\u001b[1;33m,\u001b[0m \u001b[0matm\u001b[0m\u001b[1;33m[\u001b[0m\u001b[1;36m1\u001b[0m\u001b[1;33m]\u001b[0m\u001b[1;33m)\u001b[0m\u001b[1;33m)\u001b[0m\u001b[1;33m)\u001b[0m\u001b[1;33m\u001b[0m\u001b[1;33m\u001b[0m\u001b[0m\n\u001b[1;32m---> 20\u001b[1;33m         \u001b[0mnearest\u001b[0m \u001b[1;33m=\u001b[0m \u001b[0mnp\u001b[0m\u001b[1;33m.\u001b[0m\u001b[0margmin\u001b[0m\u001b[1;33m(\u001b[0m\u001b[0mallatms\u001b[0m\u001b[1;33m)\u001b[0m\u001b[1;33m\u001b[0m\u001b[1;33m\u001b[0m\u001b[0m\n\u001b[0m\u001b[0;32m     21\u001b[0m         \u001b[0mlength\u001b[0m\u001b[1;33m.\u001b[0m\u001b[0mappend\u001b[0m\u001b[1;33m(\u001b[0m\u001b[0mnp\u001b[0m\u001b[1;33m.\u001b[0m\u001b[0mmin\u001b[0m\u001b[1;33m(\u001b[0m\u001b[0mallatms\u001b[0m\u001b[1;33m)\u001b[0m\u001b[1;33m)\u001b[0m\u001b[1;33m\u001b[0m\u001b[1;33m\u001b[0m\u001b[0m\n\u001b[0;32m     22\u001b[0m         \u001b[0mnetwork\u001b[0m\u001b[1;33m.\u001b[0m\u001b[0mappend\u001b[0m\u001b[1;33m(\u001b[0m\u001b[0mnearest\u001b[0m\u001b[1;33m)\u001b[0m\u001b[1;33m\u001b[0m\u001b[1;33m\u001b[0m\u001b[0m\n",
      "\u001b[1;32m<__array_function__ internals>\u001b[0m in \u001b[0;36margmin\u001b[1;34m(*args, **kwargs)\u001b[0m\n",
      "\u001b[1;32m~\\AppData\\Roaming\\Python\\Python38\\site-packages\\numpy\\core\\fromnumeric.py\u001b[0m in \u001b[0;36margmin\u001b[1;34m(a, axis, out)\u001b[0m\n\u001b[0;32m   1267\u001b[0m \u001b[1;33m\u001b[0m\u001b[0m\n\u001b[0;32m   1268\u001b[0m     \"\"\"\n\u001b[1;32m-> 1269\u001b[1;33m     \u001b[1;32mreturn\u001b[0m \u001b[0m_wrapfunc\u001b[0m\u001b[1;33m(\u001b[0m\u001b[0ma\u001b[0m\u001b[1;33m,\u001b[0m \u001b[1;34m'argmin'\u001b[0m\u001b[1;33m,\u001b[0m \u001b[0maxis\u001b[0m\u001b[1;33m=\u001b[0m\u001b[0maxis\u001b[0m\u001b[1;33m,\u001b[0m \u001b[0mout\u001b[0m\u001b[1;33m=\u001b[0m\u001b[0mout\u001b[0m\u001b[1;33m)\u001b[0m\u001b[1;33m\u001b[0m\u001b[1;33m\u001b[0m\u001b[0m\n\u001b[0m\u001b[0;32m   1270\u001b[0m \u001b[1;33m\u001b[0m\u001b[0m\n\u001b[0;32m   1271\u001b[0m \u001b[1;33m\u001b[0m\u001b[0m\n",
      "\u001b[1;32m~\\AppData\\Roaming\\Python\\Python38\\site-packages\\numpy\\core\\fromnumeric.py\u001b[0m in \u001b[0;36m_wrapfunc\u001b[1;34m(obj, method, *args, **kwds)\u001b[0m\n\u001b[0;32m     53\u001b[0m     \u001b[0mbound\u001b[0m \u001b[1;33m=\u001b[0m \u001b[0mgetattr\u001b[0m\u001b[1;33m(\u001b[0m\u001b[0mobj\u001b[0m\u001b[1;33m,\u001b[0m \u001b[0mmethod\u001b[0m\u001b[1;33m,\u001b[0m \u001b[1;32mNone\u001b[0m\u001b[1;33m)\u001b[0m\u001b[1;33m\u001b[0m\u001b[1;33m\u001b[0m\u001b[0m\n\u001b[0;32m     54\u001b[0m     \u001b[1;32mif\u001b[0m \u001b[0mbound\u001b[0m \u001b[1;32mis\u001b[0m \u001b[1;32mNone\u001b[0m\u001b[1;33m:\u001b[0m\u001b[1;33m\u001b[0m\u001b[1;33m\u001b[0m\u001b[0m\n\u001b[1;32m---> 55\u001b[1;33m         \u001b[1;32mreturn\u001b[0m \u001b[0m_wrapit\u001b[0m\u001b[1;33m(\u001b[0m\u001b[0mobj\u001b[0m\u001b[1;33m,\u001b[0m \u001b[0mmethod\u001b[0m\u001b[1;33m,\u001b[0m \u001b[1;33m*\u001b[0m\u001b[0margs\u001b[0m\u001b[1;33m,\u001b[0m \u001b[1;33m**\u001b[0m\u001b[0mkwds\u001b[0m\u001b[1;33m)\u001b[0m\u001b[1;33m\u001b[0m\u001b[1;33m\u001b[0m\u001b[0m\n\u001b[0m\u001b[0;32m     56\u001b[0m \u001b[1;33m\u001b[0m\u001b[0m\n\u001b[0;32m     57\u001b[0m     \u001b[1;32mtry\u001b[0m\u001b[1;33m:\u001b[0m\u001b[1;33m\u001b[0m\u001b[1;33m\u001b[0m\u001b[0m\n",
      "\u001b[1;32m~\\AppData\\Roaming\\Python\\Python38\\site-packages\\numpy\\core\\fromnumeric.py\u001b[0m in \u001b[0;36m_wrapit\u001b[1;34m(obj, method, *args, **kwds)\u001b[0m\n\u001b[0;32m     42\u001b[0m     \u001b[1;32mexcept\u001b[0m \u001b[0mAttributeError\u001b[0m\u001b[1;33m:\u001b[0m\u001b[1;33m\u001b[0m\u001b[1;33m\u001b[0m\u001b[0m\n\u001b[0;32m     43\u001b[0m         \u001b[0mwrap\u001b[0m \u001b[1;33m=\u001b[0m \u001b[1;32mNone\u001b[0m\u001b[1;33m\u001b[0m\u001b[1;33m\u001b[0m\u001b[0m\n\u001b[1;32m---> 44\u001b[1;33m     \u001b[0mresult\u001b[0m \u001b[1;33m=\u001b[0m \u001b[0mgetattr\u001b[0m\u001b[1;33m(\u001b[0m\u001b[0masarray\u001b[0m\u001b[1;33m(\u001b[0m\u001b[0mobj\u001b[0m\u001b[1;33m)\u001b[0m\u001b[1;33m,\u001b[0m \u001b[0mmethod\u001b[0m\u001b[1;33m)\u001b[0m\u001b[1;33m(\u001b[0m\u001b[1;33m*\u001b[0m\u001b[0margs\u001b[0m\u001b[1;33m,\u001b[0m \u001b[1;33m**\u001b[0m\u001b[0mkwds\u001b[0m\u001b[1;33m)\u001b[0m\u001b[1;33m\u001b[0m\u001b[1;33m\u001b[0m\u001b[0m\n\u001b[0m\u001b[0;32m     45\u001b[0m     \u001b[1;32mif\u001b[0m \u001b[0mwrap\u001b[0m\u001b[1;33m:\u001b[0m\u001b[1;33m\u001b[0m\u001b[1;33m\u001b[0m\u001b[0m\n\u001b[0;32m     46\u001b[0m         \u001b[1;32mif\u001b[0m \u001b[1;32mnot\u001b[0m \u001b[0misinstance\u001b[0m\u001b[1;33m(\u001b[0m\u001b[0mresult\u001b[0m\u001b[1;33m,\u001b[0m \u001b[0mmu\u001b[0m\u001b[1;33m.\u001b[0m\u001b[0mndarray\u001b[0m\u001b[1;33m)\u001b[0m\u001b[1;33m:\u001b[0m\u001b[1;33m\u001b[0m\u001b[1;33m\u001b[0m\u001b[0m\n",
      "\u001b[1;31mValueError\u001b[0m: attempt to get argmin of an empty sequence"
     ]
    }
   ],
   "source": [
    "network, lengths = assign_nearest(x_customers, y_customers, longitudes[10], latitudes[10])"
   ]
  },
  {
   "cell_type": "code",
   "execution_count": null,
   "id": "fae24b0c",
   "metadata": {},
   "outputs": [],
   "source": [
    "%matplotlib inline\n",
    "fig = plt.axes()\n",
    "major_ticks_top=np.linspace(0,0.75,n_x)\n",
    "fig.set_xticks (major_ticks_top, minor = True)\n",
    "major_ticks_top=np.linspace(0, 1, n_y)\n",
    "fig.set_yticks(major_ticks_top, minor = True)\n",
    "fig.grid(which = 'minor')\n",
    "fig.plot(longitudes[10], latitudes[10], 'ro')\n",
    "fig.plot(x_customers, y_customers, 'bo')\n",
    "for j in range(len(network)):\n",
    "    fig.plot([x_customers[j], longitudes[10][network[j]]],[y_customers[j],latitudes[10][network[j]]], 'g')"
   ]
  },
  {
   "cell_type": "code",
   "execution_count": 30,
   "id": "e33e9563",
   "metadata": {},
   "outputs": [],
   "source": [
    "def Metric(distances, profits, alpha = 1):\n",
    "    summ = np.sum(distances**(1-alpha)*profits**alpha)\n",
    "    return summ"
   ]
  },
  {
   "cell_type": "code",
   "execution_count": 43,
   "id": "e0754de7",
   "metadata": {},
   "outputs": [
    {
     "ename": "NameError",
     "evalue": "name 'length' is not defined",
     "output_type": "error",
     "traceback": [
      "\u001b[1;31m---------------------------------------------------------------------------\u001b[0m",
      "\u001b[1;31mNameError\u001b[0m                                 Traceback (most recent call last)",
      "\u001b[1;32m<ipython-input-43-eece61b99d37>\u001b[0m in \u001b[0;36m<module>\u001b[1;34m\u001b[0m\n\u001b[1;32m----> 1\u001b[1;33m \u001b[0mMetric\u001b[0m \u001b[1;33m(\u001b[0m\u001b[0mlength\u001b[0m\u001b[1;33m,\u001b[0m \u001b[0mprofits\u001b[0m\u001b[1;33m,\u001b[0m \u001b[1;36m1\u001b[0m\u001b[1;33m)\u001b[0m\u001b[1;33m\u001b[0m\u001b[1;33m\u001b[0m\u001b[0m\n\u001b[0m",
      "\u001b[1;31mNameError\u001b[0m: name 'length' is not defined"
     ]
    }
   ],
   "source": [
    "Metric (lengths, profits)"
   ]
  },
  {
   "cell_type": "markdown",
   "id": "bf4b480c",
   "metadata": {},
   "source": [
    "Now plot Metrics for different ATM numbers"
   ]
  },
  {
   "cell_type": "code",
   "execution_count": 65,
   "id": "953c9d48",
   "metadata": {},
   "outputs": [],
   "source": [
    "def compare_ATM_numbers(x_customers, y_customers, longitudes, latitudes, number_ATMs):\n",
    "    metrics = []\n",
    "    for ATM_number  in range(number_ATMs):\n",
    "        network, lengths = assign_nearest(x_customers, y_customers, longitudes[ATM_number], latitudes[ATM_number])\n",
    "        metric = Metric(lengths, profits)\n",
    "        metrics.append(metric)\n",
    "    return metrics"
   ]
  },
  {
   "cell_type": "code",
   "execution_count": null,
   "id": "29a958d8",
   "metadata": {},
   "outputs": [],
   "source": [
    "metrics  =compare_ATM_numbers(x_customers, y_customers, longitudes, latitudes, number_ATMs)"
   ]
  },
  {
   "cell_type": "code",
   "execution_count": null,
   "id": "a5819794",
   "metadata": {},
   "outputs": [],
   "source": [
    "fig2 = plt.axes()\n",
    "fig2.plot(number_ATMs, metrics)"
   ]
  }
 ],
 "metadata": {
  "kernelspec": {
   "display_name": "Python 3",
   "language": "python",
   "name": "python3"
  },
  "language_info": {
   "codemirror_mode": {
    "name": "ipython",
    "version": 3
   },
   "file_extension": ".py",
   "mimetype": "text/x-python",
   "name": "python",
   "nbconvert_exporter": "python",
   "pygments_lexer": "ipython3",
   "version": "3.8.8"
  }
 },
 "nbformat": 4,
 "nbformat_minor": 5
}
