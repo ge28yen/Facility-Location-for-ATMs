{
 "cells": [
  {
   "cell_type": "markdown",
   "metadata": {
    "id": "1svdEXQbWA58"
   },
   "source": [
    "# Facility Location"
   ]
  },
  {
   "cell_type": "markdown",
   "metadata": {
    "id": "jeSBO4OUWA6r"
   },
   "source": [
    "## Model Formulation\n",
    "\n",
    "### Decision Variables\n",
    "\n",
    "$select_{j} \\in \\{0, 1 \\}$: This variable is equal to 1 if we build a facility at candidate location $j \\in J$; and 0 otherwise.\n",
    "\n",
    "### Objective Function:\n",
    "\n",
    "\n",
    "\\begin{equation}\n",
    "\\text{Min} \\quad \\sum_{i}\\sum_{j} J_{ij} \\cdot select_{i} \\cdot select_{j} + \\sum_{i \\in I} h_{i} \\cdot select_{i}\n",
    "\\tag{0}\n",
    "\\end{equation}\n",
    "\n",
    "### Constraints:\n",
    "\n",
    "\\begin{equation}\n",
    "\\sum_{i \\in ATMs} \\sum_{j \\in clients} d_{ij} = h_{i}\n",
    "\\tag{1}\n",
    "\\end{equation}\n",
    "\n",
    "\\begin{equation}\n",
    "J_{ij} = - d_{ij}\n",
    "\\tag{2}\n",
    "\\end{equation}\n",
    "\n",
    "\\begin{equation}\n",
    "\\sum_{i} select_{i} = K\n",
    "\\tag{3}\n",
    "\\end{equation}"
   ]
  },
  {
   "cell_type": "code",
   "execution_count": 1,
   "metadata": {
    "colab": {
     "base_uri": "https://localhost:8080/"
    },
    "id": "rzc6xOQHWA60",
    "outputId": "6ab1f054-ff14-4fa6-fda0-f5413af8daf0"
   },
   "outputs": [
    {
     "name": "stdout",
     "output_type": "stream",
     "text": [
      "Collecting gurobipyNote: you may need to restart the kernel to use updated packages.\n"
     ]
    },
    {
     "name": "stderr",
     "output_type": "stream",
     "text": [
      "\n",
      "[notice] A new release of pip available: 22.3 -> 23.3.2\n",
      "[notice] To update, run: python.exe -m pip install --upgrade pip\n"
     ]
    },
    {
     "name": "stdout",
     "output_type": "stream",
     "text": [
      "\n",
      "  Downloading gurobipy-11.0.0-cp311-cp311-win_amd64.whl (10.2 MB)\n",
      "     ---------------------------------------- 10.2/10.2 MB 3.7 MB/s eta 0:00:00\n",
      "Installing collected packages: gurobipy\n",
      "Successfully installed gurobipy-11.0.0\n"
     ]
    }
   ],
   "source": [
    "%pip install gurobipy"
   ]
  },
  {
   "cell_type": "code",
   "execution_count": 2,
   "metadata": {
    "id": "ipfl27N2WA69"
   },
   "outputs": [],
   "source": [
    "from itertools import product\n",
    "from math import sqrt\n",
    "import matplotlib.pyplot as plt\n",
    "import gurobipy as gp\n",
    "from gurobipy import GRB\n",
    "import numpy as np"
   ]
  },
  {
   "cell_type": "code",
   "execution_count": 3,
   "metadata": {
    "colab": {
     "base_uri": "https://localhost:8080/",
     "height": 265
    },
    "id": "EAzUcTYcyEIy",
    "outputId": "d94543a8-bda7-43dc-9319-53fc50127ac6"
   },
   "outputs": [
    {
     "data": {
      "image/png": "[encoded data removed]",
      "text/plain": [
       "<Figure size 640x480 with 1 Axes>"
      ]
     },
     "metadata": {},
     "output_type": "display_data"
    }
   ],
   "source": [
    "# Set random point for Custumers and facilities (ATMs) in the graph:\n",
    "customers=[(np.random.rand(),np.random.rand()) for _ in range(30)]\n",
    "facilities=[(np.random.rand(),np.random.rand()) for _ in range(13)]\n",
    "\n",
    "for c in customers:\n",
    "  plt.plot(c[0],c[1], 'bo')\n",
    "for f in facilities:\n",
    "  plt.plot(f[0],f[1], 'ro')\n",
    "plt.grid(True)\n",
    "plt.show()"
   ]
  },
  {
   "cell_type": "code",
   "execution_count": 4,
   "metadata": {
    "colab": {
     "base_uri": "https://localhost:8080/"
    },
    "id": "yi_d3MT6WA7E",
    "outputId": "a2165dc3-60c0-4686-94a0-737cb6200dec"
   },
   "outputs": [
    {
     "name": "stdout",
     "output_type": "stream",
     "text": [
      "13 30\n",
      "[(0, 1), (0, 2), (0, 3), (0, 4), (0, 5), (0, 6), (0, 7), (0, 8), (0, 9), (0, 10), (0, 11), (0, 12), (1, 2), (1, 3), (1, 4), (1, 5), (1, 6), (1, 7), (1, 8), (1, 9), (1, 10), (1, 11), (1, 12), (2, 3), (2, 4), (2, 5), (2, 6), (2, 7), (2, 8), (2, 9), (2, 10), (2, 11), (2, 12), (3, 4), (3, 5), (3, 6), (3, 7), (3, 8), (3, 9), (3, 10), (3, 11), (3, 12), (4, 5), (4, 6), (4, 7), (4, 8), (4, 9), (4, 10), (4, 11), (4, 12), (5, 6), (5, 7), (5, 8), (5, 9), (5, 10), (5, 11), (5, 12), (6, 7), (6, 8), (6, 9), (6, 10), (6, 11), (6, 12), (7, 8), (7, 9), (7, 10), (7, 11), (7, 12), (8, 9), (8, 10), (8, 11), (8, 12), (9, 10), (9, 11), (9, 12), (10, 11), (10, 12), (11, 12)]\n"
     ]
    }
   ],
   "source": [
    "# This function determines the Euclidean distance between a facility and customer sites / between a facility i and facility j.\n",
    "\n",
    "def compute_distance(loc1, loc2):\n",
    "    dx = loc1[0] - loc2[0]\n",
    "    dy = loc1[1] - loc2[1]\n",
    "    return sqrt(dx*dx + dy*dy)\n",
    "\n",
    "# Compute key parameters of MIP model formulation\n",
    "\n",
    "num_facilities = len(facilities)\n",
    "num_customers = len(customers)\n",
    "# Set the coordinates that link facility i to other facilities:\n",
    "coordinates_ij=[(i,j) for i in range(num_facilities-1) for j in range(i+1,num_facilities)]\n",
    "\n",
    "\n",
    "print(num_facilities, num_customers)\n",
    "#print(facilities)\n",
    "print(coordinates_ij)"
   ]
  },
  {
   "cell_type": "code",
   "execution_count": 5,
   "metadata": {
    "colab": {
     "base_uri": "https://localhost:8080/"
    },
    "id": "cPWRoKhvWA7M",
    "outputId": "beca557e-050d-45e0-e9ad-88bb11cde3ad",
    "scrolled": true
   },
   "outputs": [
    {
     "name": "stdout",
     "output_type": "stream",
     "text": [
      "Restricted license - for non-production use only - expires 2025-11-24\n",
      "Gurobi Optimizer version 11.0.0 build v11.0.0rc2 (win64 - Windows 11+.0 (22631.2))\n",
      "\n",
      "CPU model: Intel(R) Core(TM) i5-8250U CPU @ 1.60GHz, instruction set [SSE2|AVX|AVX2]\n",
      "Thread count: 4 physical cores, 8 logical processors, using up to 8 threads\n",
      "\n",
      "Optimize a model with 92 rows, 182 columns and 104 nonzeros\n",
      "Model fingerprint: 0xbf3fc3b9\n",
      "Model has 24 quadratic objective terms\n",
      "Model has 12 quadratic constraints\n",
      "Variable types: 169 continuous, 13 integer (13 binary)\n",
      "Coefficient statistics:\n",
      "  Matrix range     [1e+00, 1e+00]\n",
      "  QMatrix range    [1e+00, 1e+00]\n",
      "  QLMatrix range   [1e+00, 1e+00]\n",
      "  Objective range  [0e+00, 0e+00]\n",
      "  QObjective range [2e+00, 2e+00]\n",
      "  Bounds range     [1e+00, 1e+00]\n",
      "  RHS range        [6e-02, 2e+01]\n",
      "Presolve removed 91 rows and 157 columns\n",
      "Presolve time: 0.00s\n",
      "Presolved: 49 rows, 37 columns, 121 nonzeros\n",
      "Variable types: 0 continuous, 37 integer (37 binary)\n",
      "Found heuristic solution: objective 52.3309204\n",
      "Found heuristic solution: objective 41.1879836\n",
      "\n",
      "Root relaxation: objective 3.636832e+01, 22 iterations, 0.00 seconds (0.00 work units)\n",
      "\n",
      "    Nodes    |    Current Node    |     Objective Bounds      |     Work\n",
      " Expl Unexpl |  Obj  Depth IntInf | Incumbent    BestBd   Gap | It/Node Time\n",
      "\n",
      "*    0     0               0      36.3683166   36.36832  0.00%     -    0s\n",
      "\n",
      "Explored 1 nodes (22 simplex iterations) in 0.05 seconds (0.00 work units)\n",
      "Thread count was 8 (of 8 available processors)\n",
      "\n",
      "Solution count 3: 36.3683 41.188 52.3309 \n",
      "\n",
      "Optimal solution found (tolerance 1.00e-04)\n",
      "Best objective 3.636831658589e+01, best bound 3.636831658589e+01, gap 0.0000%\n",
      "\n",
      "runtime is 0.0559999942779541s\n"
     ]
    }
   ],
   "source": [
    "# MIP  model formulation\n",
    "\n",
    "m = gp.Model('facility_location')\n",
    "\n",
    "# Inject variable into the model:\n",
    "select = m.addVars(num_facilities, vtype=GRB.BINARY, name='Select')\n",
    "h = m.addVars(num_facilities, vtype=GRB.CONTINUOUS, name='h')\n",
    "J = m.addVars(coordinates_ij, vtype=GRB.CONTINUOUS, name='J')\n",
    "\n",
    "mul= m.addVars(coordinates_ij, vtype=GRB.CONTINUOUS, name='mul')\n",
    "\n",
    "# Define constantes\n",
    "K=4\n",
    "weight_J=1\n",
    "weight_h=1\n",
    "\n",
    "m.update()\n",
    "# Inject constraints into the model:\n",
    "for i in range(num_facilities):\n",
    "  m.addConstr(weight_h*gp.quicksum(compute_distance(facilities[i],customers[j]) for j in range(num_customers)) == h[i], name=f'distFC_{i}')\n",
    "\n",
    "for i in range(num_facilities-1):\n",
    "  for j in range(i+1,num_facilities):\n",
    "    m.addConstr(J[(i,j)] == weight_J*compute_distance(facilities[i],facilities[j]), name=f'J_{i}{j}')\n",
    "\n",
    "m.addConstr(gp.quicksum(select[i] for i in range(num_facilities)) == K)\n",
    "\n",
    "# Because the products of three variables is not supported by Gurobi in the objective function I will define a new variable called mul. See: https://support.gurobi.com/hc/en-us/community/posts/360056771292-Invalid-argument-to-QuadExpr-multiplication-Error-\n",
    "m.addConstrs(mul[(i,j)]==(select[i]*select[j]) for j in range(i+1,num_facilities) for i in range(num_facilities-1))\n",
    "\n",
    "# Inject the objective function\n",
    "m.setObjective(gp.quicksum(-J[(i,j)]*mul[(i,j)] for j in range(i+1,num_facilities) for i in range(num_facilities-1)) + gp.quicksum(h[j]*select[j] for j in range(num_facilities-1)), GRB.MINIMIZE)\n",
    "\n",
    "m.update()\n",
    "m.optimize()\n",
    "print()\n",
    "print(f'runtime is {m.Runtime}s')"
   ]
  },
  {
   "cell_type": "code",
   "execution_count": 6,
   "metadata": {
    "colab": {
     "base_uri": "https://localhost:8080/"
    },
    "id": "Q8zlREwhWA7T",
    "outputId": "2932f606-1128-4eac-d2ab-b59d63fcdd91"
   },
   "outputs": [
    {
     "name": "stdout",
     "output_type": "stream",
     "text": [
      "\n",
      " Build an ATM at location 7.\n",
      "\n",
      " Build an ATM at location 10.\n",
      "\n",
      " Build an ATM at location 11.\n",
      "\n",
      " Build an ATM at location 13.\n"
     ]
    }
   ],
   "source": [
    "# display optimal values of decision variables\n",
    "\n",
    "for facility in select.keys():\n",
    "    if (abs(select[facility].x) > 1e-6):\n",
    "        print(f\"\\n Build an ATM at location {facility + 1}.\")"
   ]
  },
  {
   "cell_type": "code",
   "execution_count": 7,
   "metadata": {
    "colab": {
     "base_uri": "https://localhost:8080/",
     "height": 265
    },
    "id": "trEGoU4XnSyH",
    "outputId": "ba35442b-534f-4aa7-c7b6-c70c7e294aae"
   },
   "outputs": [
    {
     "data": {
      "image/png": "[encoded data removed]",
      "text/plain": [
       "<Figure size 640x480 with 1 Axes>"
      ]
     },
     "metadata": {},
     "output_type": "display_data"
    }
   ],
   "source": [
    "for c in customers:\n",
    "  plt.plot(c[0],c[1], 'bo')\n",
    "\n",
    "from itertools import compress\n",
    "ss=[select[i].x for i in range(num_facilities)]\n",
    "fil = [True, False, True, False]\n",
    "rr=list(compress(facilities, ss))\n",
    "\n",
    "for f in facilities:\n",
    "  plt.plot(f[0],f[1], 'ro')\n",
    "\n",
    "for f in rr:\n",
    "  plt.plot(f[0],f[1], 'gs')\n",
    "\n",
    "plt.grid(True)\n",
    "plt.show()"
   ]
  },
  {
   "cell_type": "markdown",
   "metadata": {
    "id": "N_qXmpFY4Rew"
   },
   "source": []
  },
  {
   "cell_type": "markdown",
   "metadata": {
    "id": "NQ8mrnm-WA7U"
   },
   "source": []
  },
  {
   "cell_type": "code",
   "execution_count": null,
   "metadata": {
    "id": "tKi3b-Zyt_k5"
   },
   "outputs": [],
   "source": []
  }
 ],
 "metadata": {
  "colab": {
   "collapsed_sections": [],
   "name": "Copie de Hqubo de FLP_Gurobi.ipynb",
   "provenance": []
  },
  "kernelspec": {
   "display_name": "Python 3",
   "language": "python",
   "name": "python3"
  },
  "language_info": {
   "codemirror_mode": {
    "name": "ipython",
    "version": 3
   },
   "file_extension": ".py",
   "mimetype": "text/x-python",
   "name": "python",
   "nbconvert_exporter": "python",
   "pygments_lexer": "ipython3",
   "version": "3.11.0"
  }
 },
 "nbformat": 4,
 "nbformat_minor": 1
}
